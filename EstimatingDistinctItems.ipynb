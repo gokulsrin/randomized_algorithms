{
 "cells": [
  {
   "cell_type": "code",
   "execution_count": 47,
   "metadata": {},
   "outputs": [
    {
     "name": "stdout",
     "output_type": "stream",
     "text": [
      "36867\n"
     ]
    }
   ],
   "source": [
    "#this will contain my work for p6 of the coding assignment\n",
    "import re \n",
    "import mmh3\n",
    "#count num of distinct words\n",
    "f = open(\"./data/shakespeare-all.txt\", \"r\")\n",
    "dwords = []\n",
    "def naieve_count(f):\n",
    "    distinctwords = set()\n",
    "    for line in f:\n",
    "        words = line.split(\" \")\n",
    "        for word in words:\n",
    "            fword = re.sub(r'\\W', '', word)\n",
    "            dwords.append(fword)\n",
    "            distinctwords.add(fword)\n",
    "    return len(distinctwords)\n",
    "\n",
    "size = naieve_count(f)\n",
    "print(size)"
   ]
  },
  {
   "cell_type": "code",
   "execution_count": 73,
   "metadata": {},
   "outputs": [
    {
     "name": "stdout",
     "output_type": "stream",
     "text": [
      "murmur hash:32768\n",
      "standard hash:16384\n"
     ]
    }
   ],
   "source": [
    "import random \n",
    "\n",
    "\"\"\"\n",
    "countTrailingZeroes: given a binary number, return the number or trailing zeroes\n",
    "@ param num: the binary number\n",
    "\"\"\"\n",
    "def countTrailingZeroes(num):\n",
    "        bstr = str(num)\n",
    "        tz = 0\n",
    "        for i in range(len(bstr)-1, 0, -1):\n",
    "            if bstr[i] == \"0\":\n",
    "                tz += 1\n",
    "            else:\n",
    "                return tz\n",
    "        return tz\n",
    "\n",
    "\"\"\"\n",
    "**ripped from geeks-to-geeks: https://www.geeksforgeeks.org/convert-string-binary-sequence/**\n",
    "strToBinary: will convert string to binary number\n",
    "\"\"\"\n",
    "def strToBinary(s):\n",
    "    bin_conv = []\n",
    "    for c in s:\n",
    "        # convert each char to\n",
    "        # ASCII value\n",
    "        ascii_val = ord(c)\n",
    "        # Convert ASCII value to binary\n",
    "        binary_val = bin(ascii_val)\n",
    "        bin_conv.append(binary_val[2:])\n",
    "    return (' '.join(bin_conv))\n",
    "\n",
    "\"\"\"\n",
    "flajolet_martin: will estimate the number of distinct words in a stream\n",
    "@ param stream: the array of words \n",
    "@ param hash_func: the reference of the hash function we will use to map words -> int\n",
    "\"\"\"\n",
    "def flajolet_martin(stream, hash_func):\n",
    "    z = 0\n",
    "    for e in stream:\n",
    "        #turn into int\n",
    "        he = hash_func(e)\n",
    "        #get binary equivalent\n",
    "        bhe = bin(he)\n",
    "        #count trailing zeros \n",
    "        c = countTrailingZeroes(bhe)\n",
    "        if z < c:\n",
    "            z = c\n",
    "    return 2**z\n",
    "\n",
    "print(\"murmur hash:%d\" %flajolet_martin(dwords, mmh3.hash))\n",
    "print(\"standard hash:%d\" % flajolet_martin(dwords, hash))"
   ]
  },
  {
   "cell_type": "code",
   "execution_count": 74,
   "metadata": {},
   "outputs": [
    {
     "name": "stdout",
     "output_type": "stream",
     "text": [
      "[32768, 32768, 32768, 32768, 32768, 32768, 32768, 32768, 32768, 32768]\n"
     ]
    }
   ],
   "source": [
    "# theoretical guarantee: d/8 ≤ est ≤ 4d w/p > 1/2\n",
    "\n",
    "#this was intended to test random seeding \n",
    "trial_num = 10\n",
    "trials = []\n",
    "for i in range(0, trial_num):\n",
    "    trials.append(flajolet_martin(dwords, mmh3.hash))\n",
    "\n",
    "trials = sorted(trials)\n",
    "print(trials)"
   ]
  },
  {
   "cell_type": "code",
   "execution_count": null,
   "metadata": {},
   "outputs": [],
   "source": []
  }
 ],
 "metadata": {
  "kernelspec": {
   "display_name": "Python 3",
   "language": "python",
   "name": "python3"
  },
  "language_info": {
   "codemirror_mode": {
    "name": "ipython",
    "version": 3
   },
   "file_extension": ".py",
   "mimetype": "text/x-python",
   "name": "python",
   "nbconvert_exporter": "python",
   "pygments_lexer": "ipython3",
   "version": "3.7.4"
  }
 },
 "nbformat": 4,
 "nbformat_minor": 2
}
