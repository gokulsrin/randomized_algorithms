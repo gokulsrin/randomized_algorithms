{
 "cells": [
  {
   "cell_type": "code",
   "execution_count": 131,
   "metadata": {},
   "outputs": [
    {
     "name": "stdout",
     "output_type": "stream",
     "text": [
      "23345\n"
     ]
    }
   ],
   "source": [
    "import re\n",
    "import matplotlib.pyplot as plt\n",
    "#establishing ground truth \n",
    "\n",
    "#Find true frequencies \n",
    "f = open(\"./data/descartes.txt\", \"r\")\n",
    "tf = {}\n",
    "#create a words array which are the words in the text\n",
    "gwords = []\n",
    "for line in f:\n",
    "    words = line.split(\" \")\n",
    "    for word in words:\n",
    "        fword = re.sub(r'\\W', '', word)\n",
    "        gwords.append(fword)\n",
    "        if tf.get(fword) == None:\n",
    "            tf[fword] = 1\n",
    "        else:\n",
    "            tf[fword] = tf.get(fword) + 1\n",
    "f.close()\n",
    "#find the top 30 highest frequency words \n",
    "sorted_dict = {}\n",
    "sorted_keys = sorted(tf, reverse= True, key=tf.get) \n",
    "sorted_keys = sorted_keys[0:30]\n",
    "for k in sorted_keys:\n",
    "    sorted_dict[k] = tf[k]\n",
    "#form the ground truth \n",
    "ground_truth = sorted_dict\n",
    "\n",
    "print(len(gwords))"
   ]
  },
  {
   "cell_type": "code",
   "execution_count": 172,
   "metadata": {},
   "outputs": [
    {
     "data": {
      "image/png": "[encoded data removed]",
      "text/plain": [
       "<Figure size 432x288 with 1 Axes>"
      ]
     },
     "metadata": {
      "needs_background": "light"
     },
     "output_type": "display_data"
    },
    {
     "name": "stdout",
     "output_type": "stream",
     "text": [
      "3\n"
     ]
    }
   ],
   "source": [
    "import mmh3\n",
    "import numpy as np \n",
    "import random \n",
    "import math \n",
    "\n",
    "\"\"\"\n",
    "buildCounters: this method creates the kt counters table that store the frequencies in this algo\n",
    "@ param delta: this is a configurable value\n",
    "@ param k: this the size of the hash \n",
    "@ param stream: this is the massive array of words that we will get\n",
    "\"\"\"\n",
    "def buildCounters(delta, k, stream, seeds):\n",
    "    #t hash functions\n",
    "    t = math.ceil(np.log(1/delta))\n",
    "\n",
    "    #init kt counters in counters array\n",
    "    counters = []\n",
    "    for i in range(0, t):\n",
    "        counters.append([0]*k)\n",
    "    \n",
    "    #deal with the stream -- treat each (i, c) as word with c = 1\n",
    "    for word in stream: \n",
    "        #hash the word into each distinct C using a distinct hash\n",
    "        for i in range(0, t):\n",
    "            counters[i][mmh3.hash(word, seeds[i])%k] += 1\n",
    "    \n",
    "    return counters\n",
    "\"\"\"\n",
    "queryWord: this method finds the stored frequency of a word\n",
    "@ param word: word we want the freq of \n",
    "@ param counters: table of values\n",
    "@ param k: hash size\n",
    "@ param delta: this is a configurable value\n",
    "\"\"\"\n",
    "def queryWord(word, counters, k, delta, seeds):\n",
    "    #go through all t counters, and find the minimum value of associated with the hash of the word\n",
    "    t = math.ceil(np.log(1/delta))\n",
    "        \n",
    "    m = counters[0][mmh3.hash(word, seeds[0])%k]\n",
    "    for i in range(1, t):\n",
    "        if counters[i][mmh3.hash(word, seeds[i])%k] < m:\n",
    "            m = counters[i][mmh3.hash(word, seeds[i])%k]\n",
    "    return m\n",
    "\n",
    "def countMin(delta, k, stream):\n",
    "    \n",
    "    #geneate t random seeds\n",
    "    t = math.ceil(np.log(1/delta))\n",
    "    seeds = []\n",
    "    for i in range(0,t):\n",
    "        seeds.append(random.randint(0,k))\n",
    "        \n",
    "    #build counters\n",
    "    counters = buildCounters(delta, k, stream, seeds)\n",
    "    \n",
    "    #cumulative error\n",
    "    cerror = 0\n",
    "    for word in ground_truth.keys():\n",
    "        #difference between est and ground truth \n",
    "        cerror += abs(ground_truth.get(word) -  queryWord(word, counters, k, delta, seeds))\n",
    "        \n",
    "    # return averaged error\n",
    "    return cerror/len(ground_truth.keys())\n",
    "\n",
    "def visualizeCountMin():\n",
    "    ks = [100, 1000, 10000]\n",
    "    error = []\n",
    "    for k in ks:\n",
    "        error.append(countMin(.01, k, gwords))\n",
    "    plt.plot(ks, error, color = \"g\")\n",
    "    plt.title(\"Count Min: Average Error against Hash Size\")\n",
    "    plt.xlabel(\"Hash Size (k)\")\n",
    "    plt.ylabel(\"Average Error\")\n",
    "    plt.show()\n",
    "    print(len(error))\n",
    "visualizeCountMin()"
   ]
  },
  {
   "cell_type": "code",
   "execution_count": 173,
   "metadata": {},
   "outputs": [
    {
     "data": {
      "image/png": "[encoded data removed]",
      "text/plain": [
       "<Figure size 432x288 with 1 Axes>"
      ]
     },
     "metadata": {
      "needs_background": "light"
     },
     "output_type": "display_data"
    }
   ],
   "source": [
    "#count-sketch \n",
    "\"\"\"\n",
    "csCounters: method that builds the counter \n",
    "@ params: pretty self explanatory parameters, note that r1 & r2 are random seeds between 0 & k \n",
    "\"\"\"\n",
    "def csCounters(delta, k, stream, r1, r2):\n",
    "    # counters\n",
    "    C = [0]*k\n",
    "    for word in stream:\n",
    "        C[mmh3.hash(word, r1)%k] = C[mmh3.hash(word, r1)%k] + int((mmh3.hash(word, r2)%2 -.5)*2)\n",
    "    return C\n",
    "\"\"\"\n",
    "countSketch: this method finds the average error between the prediction and all words in the ground_truth for a given k\n",
    "@params: again, pretty self explanatory; note that k will vary\n",
    "\"\"\"\n",
    "def countSketch(delta, k, stream):\n",
    "    #random seeds\n",
    "    r1 = random.randint(0,k)\n",
    "    r2 = random.randint(0,k)\n",
    "        \n",
    "    #build counters\n",
    "    C = csCounters(delta, k, stream, r1, r2)\n",
    "    \n",
    "    #cumulative error\n",
    "    cerror = 0\n",
    "    for word in ground_truth.keys():\n",
    "        #difference between est and ground truth \n",
    "        cerror += abs(ground_truth.get(word) - int((mmh3.hash(word, r2)%2 -.5)*2)*C[mmh3.hash(word, r1)%k])\n",
    "        \n",
    "    # return averaged error\n",
    "    return cerror/len(ground_truth.keys())\n",
    "\"\"\"\n",
    "visualizeCountSketch: this method will visualize the avg. error across different k values\n",
    "\"\"\"\n",
    "def visualizeCountSketch():\n",
    "    ks = [100, 1000, 10000]\n",
    "    error = []\n",
    "    #determine avg. error for each k \n",
    "    for k in ks:\n",
    "        error.append(countSketch(.01, k, gwords))\n",
    "    #graphing stuff\n",
    "    plt.plot(ks, error, color = \"g\")\n",
    "    plt.title(\"Count Sketch: Average Error against Hash Size\")\n",
    "    plt.xlabel(\"Hash Size (k)\")\n",
    "    plt.ylabel(\"Average Error\")\n",
    "    plt.show()\n",
    "    \n",
    "visualizeCountSketch()"
   ]
  },
  {
   "cell_type": "code",
   "execution_count": 171,
   "metadata": {},
   "outputs": [
    {
     "name": "stdout",
     "output_type": "stream",
     "text": [
      "the:1378\n",
      "365\n",
      "0.01563503962304562\n"
     ]
    },
    {
     "data": {
      "image/png": "[encoded data removed]",
      "text/plain": [
       "<Figure size 432x288 with 1 Axes>"
      ]
     },
     "metadata": {
      "needs_background": "light"
     },
     "output_type": "display_data"
    },
    {
     "name": "stdout",
     "output_type": "stream",
     "text": [
      "the:1378\n",
      "426\n",
      "0.018248018847718997\n"
     ]
    },
    {
     "data": {
      "image/png": "[encoded data removed]",
      "text/plain": [
       "<Figure size 432x288 with 1 Axes>"
      ]
     },
     "metadata": {
      "needs_background": "light"
     },
     "output_type": "display_data"
    }
   ],
   "source": [
    "#find highest/lowest freq word, and see what you need to do to k to get average error <= .01freq\n",
    "\n",
    "\"\"\"\n",
    "findK: this method finds the k for which the average error for the frequency estimate of a particular word is below \n",
    ".01*ground_truth. \n",
    "\n",
    "@ delta: this is self explanatory \n",
    "@ stream: the stream of words\n",
    "@ index: the index of the word (0) for most frequent (29) for least frequent \n",
    "\"\"\"\n",
    "def findK(delta, stream, index, mode):\n",
    "    word = sorted_keys[index]\n",
    "    print(\"%s:%d\" % (word, ground_truth.get(word)))\n",
    "    #num trials \n",
    "    trial_num = 10\n",
    "    #k wil increase\n",
    "    k = 100\n",
    "    #track different ks\n",
    "    karray = [] \n",
    "    #track avg. error\n",
    "    errors = []\n",
    "    if mode == \"countMin\":\n",
    "        while(True):\n",
    "            cerror = 0\n",
    "            for i in range(0, trial_num):\n",
    "                #geneate t random seeds\n",
    "                t = math.ceil(np.log(1/delta))\n",
    "                seeds = []\n",
    "                for i in range(0,t):\n",
    "                    seeds.append(random.randint(0,k))\n",
    "                #build counters\n",
    "                counters = buildCounters(delta,k, stream, seeds)\n",
    "                #find difference\n",
    "                cerror += abs(ground_truth.get(word) -  queryWord(word, counters, k, delta, seeds))\n",
    "            #calculate avg error\n",
    "            avg_error = cerror/trial_num\n",
    "            #add to lists\n",
    "            karray.append(k)\n",
    "            errors.append(avg_error)\n",
    "            #check if satisfies condition\n",
    "            if avg_error <= delta*ground_truth.get(word):\n",
    "                print(k)\n",
    "                print(k/len(gwords))\n",
    "                break\n",
    "            k += int(k/5)\n",
    "    elif mode == \"countSketch\":\n",
    "         while(True):\n",
    "            cerror = 0\n",
    "            for i in range(0, trial_num):\n",
    "                #random seeds\n",
    "                r1 = random.randint(0,k)\n",
    "                r2 = random.randint(0,k)\n",
    "                #build counter\n",
    "                C = csCounters(delta,k, stream, r1, r2)\n",
    "                #find difference\n",
    "                cerror += abs(ground_truth.get(word) - int((mmh3.hash(word, r2)%2 -.5)*2)*C[mmh3.hash(word, r1)%k])\n",
    "            \n",
    "            #calculate avg error\n",
    "            avg_error = cerror/trial_num\n",
    "            #add to lists\n",
    "            karray.append(k)\n",
    "            errors.append(avg_error)\n",
    "            #check if satisfies condition\n",
    "            if avg_error <= delta*ground_truth.get(word):\n",
    "                print(k)\n",
    "                print(k/len(gwords))\n",
    "                break\n",
    "            k += int(k/20)\n",
    "    plt.plot(karray, errors, color = \"b\")\n",
    "    plt.title(mode)\n",
    "    plt.xlabel(\"value of k\")\n",
    "    plt.ylabel(\"average error\")\n",
    "    plt.show()\n",
    "\n",
    "\"\"\"\n",
    "***\n",
    "\n",
    "To use, findK takes as arguments delta = .01, gwords which is the array version of the text (short for ground truth words)\n",
    "0-29 which correspond to the first 30 words in the grount truth (i.e. 0 for the most frequent, 30 for the least),\n",
    "and \"countMin\" or \"countSketch\"\n",
    "\n",
    "***\n",
    "\"\"\"\n",
    "findK(.01, gwords, 0, \"countSketch\")\n",
    "findK(.01, gwords, 0, \"countMin\")\n"
   ]
  },
  {
   "cell_type": "code",
   "execution_count": null,
   "metadata": {},
   "outputs": [],
   "source": [
    "#bonus part of problem \n",
    "#.... nvm too hard"
   ]
  },
  {
   "cell_type": "code",
   "execution_count": null,
   "metadata": {},
   "outputs": [],
   "source": []
  }
 ],
 "metadata": {
  "kernelspec": {
   "display_name": "Python 3",
   "language": "python",
   "name": "python3"
  },
  "language_info": {
   "codemirror_mode": {
    "name": "ipython",
    "version": 3
   },
   "file_extension": ".py",
   "mimetype": "text/x-python",
   "name": "python",
   "nbconvert_exporter": "python",
   "pygments_lexer": "ipython3",
   "version": "3.7.4"
  }
 },
 "nbformat": 4,
 "nbformat_minor": 2
}
