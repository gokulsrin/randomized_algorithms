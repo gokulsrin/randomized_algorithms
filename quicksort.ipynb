{
 "cells": [
  {
   "cell_type": "code",
   "execution_count": 2,
   "metadata": {},
   "outputs": [],
   "source": [
    "import random\n",
    "\n",
    "#let count be an object tracking the number of comparisons made\n",
    "def quicksort(arr, count):\n",
    "    #base case\n",
    "    if len(arr)<= 1:\n",
    "        return arr\n",
    "    #pick a pivot\n",
    "    p = random.randint(0, len(arr)-1)\n",
    "    pivot = arr[p]\n",
    "    # arrays\n",
    "    A1, A2 = constructArray(arr, pivot, p, count)\n",
    "    #sort them\n",
    "    X = quicksort(A1, count)\n",
    "    Y = quicksort(A2, count)\n",
    "    #combine the results array\n",
    "    A = []\n",
    "    for i in X:\n",
    "        A.append(i)\n",
    "    A.append(pivot)\n",
    "    for i in Y:\n",
    "        A.append(i)\n",
    "    return A\n",
    "\n",
    "def constructArray(arr, pivot, index, count):\n",
    "    # A1 is all less than or equal to pivot, A2 is all greater\n",
    "    A1 = []\n",
    "    A2 = []\n",
    "    for i in range(0, len(arr)):\n",
    "        if arr[i] <= pivot and i != index: \n",
    "            A1.append(arr[i])\n",
    "            count.append(1)\n",
    "        elif arr[i] > pivot:\n",
    "            A2.append(arr[i])\n",
    "            count.append(1)  \n",
    "    return A1, A2"
   ]
  },
  {
   "cell_type": "code",
   "execution_count": 80,
   "metadata": {},
   "outputs": [
    {
     "data": {
      "image/png": "[encoded data removed]",
      "text/plain": [
       "<Figure size 432x288 with 1 Axes>"
      ]
     },
     "metadata": {
      "needs_background": "light"
     },
     "output_type": "display_data"
    }
   ],
   "source": [
    "import matplotlib.pyplot as plt\n",
    "\n",
    "def visualizeQuickSort1():\n",
    "    n = random.randint(100, 1000)\n",
    "    arr = []\n",
    "    for i in range(0, n):\n",
    "        arr.append(random.randint(0,n))\n",
    "    counts = []\n",
    "    for i in range(0, 100):\n",
    "        count = []\n",
    "        quicksort(arr, count)\n",
    "        counts.append(len(count))\n",
    "    #process counts\n",
    "    freqmap = {}\n",
    "    for count in counts:\n",
    "        if freqmap.get(count) == None:\n",
    "            freqmap[count] = 1\n",
    "        else:\n",
    "            freqmap[count] = freqmap.get(count) + 1\n",
    "    frequency = freqmap.keys()\n",
    "    values = freqmap.values()\n",
    "    plt.bar(frequency, values, width = 1.0, color = \"r\")\n",
    "    plt.ylabel(\"Frequency\")\n",
    "    plt.xlabel(\"Count\")\n",
    "    plt.title(\"Frequency v.s. Count\")\n",
    "    plt.show\n",
    "    \n",
    "\n",
    "visualizeQuickSort1()"
   ]
  },
  {
   "cell_type": "code",
   "execution_count": 3,
   "metadata": {},
   "outputs": [
    {
     "ename": "NameError",
     "evalue": "name 'plt' is not defined",
     "output_type": "error",
     "traceback": [
      "\u001b[0;31m---------------------------------------------------------------------------\u001b[0m",
      "\u001b[0;31mNameError\u001b[0m                                 Traceback (most recent call last)",
      "\u001b[0;32m<ipython-input-3-14a8e73d2bd5>\u001b[0m in \u001b[0;36m<module>\u001b[0;34m\u001b[0m\n\u001b[1;32m     34\u001b[0m     \u001b[0mplt\u001b[0m\u001b[0;34m.\u001b[0m\u001b[0mshow\u001b[0m\u001b[0;34m(\u001b[0m\u001b[0;34m)\u001b[0m\u001b[0;34m\u001b[0m\u001b[0;34m\u001b[0m\u001b[0m\n\u001b[1;32m     35\u001b[0m \u001b[0;34m\u001b[0m\u001b[0m\n\u001b[0;32m---> 36\u001b[0;31m \u001b[0mvisualizeQuickSort2\u001b[0m\u001b[0;34m(\u001b[0m\u001b[0;34m)\u001b[0m\u001b[0;34m\u001b[0m\u001b[0;34m\u001b[0m\u001b[0m\n\u001b[0m",
      "\u001b[0;32m<ipython-input-3-14a8e73d2bd5>\u001b[0m in \u001b[0;36mvisualizeQuickSort2\u001b[0;34m()\u001b[0m\n\u001b[1;32m     20\u001b[0m         \u001b[0mthetas\u001b[0m\u001b[0;34m.\u001b[0m\u001b[0mappend\u001b[0m\u001b[0;34m(\u001b[0m\u001b[0mavg\u001b[0m\u001b[0;34m/\u001b[0m\u001b[0;34m(\u001b[0m\u001b[0;36m2\u001b[0m\u001b[0;34m*\u001b[0m\u001b[0mn\u001b[0m\u001b[0;34m*\u001b[0m\u001b[0mmath\u001b[0m\u001b[0;34m.\u001b[0m\u001b[0mlog\u001b[0m\u001b[0;34m(\u001b[0m\u001b[0mn\u001b[0m\u001b[0;34m)\u001b[0m\u001b[0;34m)\u001b[0m\u001b[0;34m)\u001b[0m\u001b[0;34m\u001b[0m\u001b[0;34m\u001b[0m\u001b[0m\n\u001b[1;32m     21\u001b[0m     \u001b[0;31m#plot 1: count vs nln(n)\u001b[0m\u001b[0;34m\u001b[0m\u001b[0;34m\u001b[0m\u001b[0;34m\u001b[0m\u001b[0m\n\u001b[0;32m---> 22\u001b[0;31m     \u001b[0mplt\u001b[0m\u001b[0;34m.\u001b[0m\u001b[0mplot\u001b[0m\u001b[0;34m(\u001b[0m\u001b[0mns\u001b[0m\u001b[0;34m,\u001b[0m \u001b[0mlns\u001b[0m\u001b[0;34m,\u001b[0m \u001b[0mcolor\u001b[0m \u001b[0;34m=\u001b[0m \u001b[0;34m\"r\"\u001b[0m\u001b[0;34m,\u001b[0m \u001b[0mlabel\u001b[0m \u001b[0;34m=\u001b[0m \u001b[0;34m\"2nln(n)\"\u001b[0m\u001b[0;34m)\u001b[0m\u001b[0;34m\u001b[0m\u001b[0;34m\u001b[0m\u001b[0m\n\u001b[0m\u001b[1;32m     23\u001b[0m     \u001b[0mplt\u001b[0m\u001b[0;34m.\u001b[0m\u001b[0mplot\u001b[0m\u001b[0;34m(\u001b[0m\u001b[0mns\u001b[0m\u001b[0;34m,\u001b[0m \u001b[0mavgs\u001b[0m\u001b[0;34m,\u001b[0m \u001b[0mcolor\u001b[0m \u001b[0;34m=\u001b[0m \u001b[0;34m\"b\"\u001b[0m\u001b[0;34m,\u001b[0m \u001b[0mlabel\u001b[0m \u001b[0;34m=\u001b[0m \u001b[0;34m\"count\"\u001b[0m\u001b[0;34m)\u001b[0m\u001b[0;34m\u001b[0m\u001b[0;34m\u001b[0m\u001b[0m\n\u001b[1;32m     24\u001b[0m     \u001b[0mplt\u001b[0m\u001b[0;34m.\u001b[0m\u001b[0mylabel\u001b[0m\u001b[0;34m(\u001b[0m\u001b[0;34m\"Comparison Count\"\u001b[0m\u001b[0;34m)\u001b[0m\u001b[0;34m\u001b[0m\u001b[0;34m\u001b[0m\u001b[0m\n",
      "\u001b[0;31mNameError\u001b[0m: name 'plt' is not defined"
     ]
    }
   ],
   "source": [
    "import math\n",
    "# visualizeQuickSort2: plots the experimental performance of quick sort by measuring against randomly permuted arrays\n",
    "def visualizeQuickSort2():\n",
    "    ns = [n for n in range(100, 10000, 100)]\n",
    "    lns = [2*i*math.log(i) for i in ns]\n",
    "    thetas = []\n",
    "    avgs = []\n",
    "    for n in ns:\n",
    "        #create array randomly\n",
    "        arr = []\n",
    "        for i in range(0, n):\n",
    "            arr.append(random.randint(0,n))\n",
    "        counts = 0\n",
    "        for i in range(0, 100):\n",
    "            count = []\n",
    "            quicksort(arr, count)\n",
    "            counts += len(count)\n",
    "        avg = counts/100\n",
    "        avgs.append(avg)\n",
    "        thetas.append(avg/(2*n*math.log(n)))\n",
    "    #plot 1: count vs nln(n)\n",
    "    plt.plot(ns, lns, color = \"r\", label = \"2nln(n)\")\n",
    "    plt.plot(ns, avgs, color = \"b\", label = \"count\")\n",
    "    plt.ylabel(\"Comparison Count\")\n",
    "    plt.xlabel(\"Array Size\")\n",
    "    plt.title(\"Comparison Count vs Array Size\")\n",
    "    plt.legend()\n",
    "    plt.show()\n",
    "    #plot 2: whether theta is <= 1\n",
    "    plt.plot(ns, thetas, color = \"g\", label = \"thetas\")\n",
    "    plt.ylabel(\"Theta\")\n",
    "    plt.xlabel(\"Array Size\")\n",
    "    plt.title(\"Theta vs Array Size\")\n",
    "    plt.show()\n",
    "        \n",
    "visualizeQuickSort2()"
   ]
  },
  {
   "cell_type": "code",
   "execution_count": null,
   "metadata": {},
   "outputs": [],
   "source": [
    "# this took about 3 hours "
   ]
  }
 ],
 "metadata": {
  "kernelspec": {
   "display_name": "Python 3",
   "language": "python",
   "name": "python3"
  },
  "language_info": {
   "codemirror_mode": {
    "name": "ipython",
    "version": 3
   },
   "file_extension": ".py",
   "mimetype": "text/x-python",
   "name": "python",
   "nbconvert_exporter": "python",
   "pygments_lexer": "ipython3",
   "version": "3.7.4"
  }
 },
 "nbformat": 4,
 "nbformat_minor": 2
}
