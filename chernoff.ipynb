{
 "cells": [
  {
   "cell_type": "code",
   "execution_count": 3,
   "metadata": {},
   "outputs": [
    {
     "data": {
      "image/png": "[encoded data removed]",
      "text/plain": [
       "<Figure size 432x288 with 1 Axes>"
      ]
     },
     "metadata": {
      "needs_background": "light"
     },
     "output_type": "display_data"
    }
   ],
   "source": [
    "from random import *\n",
    "import matplotlib.pyplot as plt\n",
    "from collections import OrderedDict\n",
    "\n",
    "\n",
    "def createX(n):\n",
    "    X = 0\n",
    "    for i in range(0, n):\n",
    "        xi = randint(0,1)\n",
    "        X += xi\n",
    "    return X\n",
    "\n",
    "#number of outer loops, number of inner loops \n",
    "def createHistogram(n, k):\n",
    "    freq_map = {}\n",
    "    for i in range(0, n):\n",
    "        X = createX(k)\n",
    "        if freq_map.get(X) == None:\n",
    "            freq_map[X] = 0\n",
    "        else:\n",
    "            freq_map[X] = freq_map.get(X) + 1\n",
    "  \n",
    "    dict1 = sorted(freq_map.items())\n",
    "    keys = []\n",
    "    values = []\n",
    "    for item in dict1:\n",
    "        keys.append(item[0])\n",
    "        values.append(item[1]) \n",
    "    width = 1.0\n",
    "    plt.bar(keys, values, width, color='g')\n",
    "    plt.title(\"Chernoff Visualization\")\n",
    "    plt.xlabel(\"Value of random variable\")\n",
    "    plt.ylabel(\"Frequency of random variable\")\n",
    "    plt.show()\n",
    "    \n",
    "\n",
    "createHistogram(1000, 100)\n",
    "    "
   ]
  },
  {
   "cell_type": "code",
   "execution_count": null,
   "metadata": {},
   "outputs": [],
   "source": []
  },
  {
   "cell_type": "code",
   "execution_count": null,
   "metadata": {},
   "outputs": [],
   "source": []
  }
 ],
 "metadata": {
  "kernelspec": {
   "display_name": "Python 3",
   "language": "python",
   "name": "python3"
  },
  "language_info": {
   "codemirror_mode": {
    "name": "ipython",
    "version": 3
   },
   "file_extension": ".py",
   "mimetype": "text/x-python",
   "name": "python",
   "nbconvert_exporter": "python",
   "pygments_lexer": "ipython3",
   "version": "3.7.4"
  }
 },
 "nbformat": 4,
 "nbformat_minor": 2
}
