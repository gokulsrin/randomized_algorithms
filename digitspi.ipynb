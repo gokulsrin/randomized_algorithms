{
 "cells": [
  {
   "cell_type": "code",
   "execution_count": 18,
   "metadata": {},
   "outputs": [
    {
     "name": "stdout",
     "output_type": "stream",
     "text": [
      "Z1:3.141216\n",
      "Z2:3.139300\n",
      "Z3:3.141400\n",
      "Z4:3.138000\n",
      "Pi:3.141593\n"
     ]
    }
   ],
   "source": [
    "import math \n",
    "import random\n",
    "\n",
    "# A = 4 ; Exp[Est] = 4*(pr(p in C)) = 4 * pi/4 = pi\n",
    "A = 4\n",
    "\n",
    "#if dist to center <= rad, then point in circle\n",
    "def inCircle(x1, y1, x2, y2):\n",
    "    if math.hypot(x2 - x1, y2 - y1) <= 1/2:\n",
    "        return True\n",
    "    return False\n",
    "estimates = []\n",
    "\n",
    "#find all 10^6 estimates\n",
    "N = 10**6\n",
    "for i in range (0, N):\n",
    "    x = random.uniform(-.5, .5) \n",
    "    y = random.uniform(-.5, .5)\n",
    "    est = 0\n",
    "    if inCircle(x,y,0,0):\n",
    "        est = A\n",
    "    estimates.append(est)\n",
    "    \n",
    "def findZ1():\n",
    "    Z1 = sum(estimates)/N\n",
    "    return Z1\n",
    "\n",
    "def findZ2():\n",
    "    #partition to find avgs\n",
    "    avgs = []\n",
    "    for i in range(0, N, 10**5):\n",
    "        avgs.append(sum(estimates[i:i+10**5-1])/10**5)\n",
    "    #find median \n",
    "    avgs = sorted(avgs)\n",
    "    return ((avgs[4] + avgs[5])/2)\n",
    "\n",
    "\n",
    "def findZ3():\n",
    "    #partition to find avgs\n",
    "    avgs = []\n",
    "    for i in range(0, N, 10**4):\n",
    "        avgs.append(sum(estimates[i:i+10**4-1])/10**4)\n",
    "    #find median \n",
    "    avgs = sorted(avgs)\n",
    "    return ((avgs[49] + avgs[50])/2)\n",
    "\n",
    "\n",
    "def findZ4():\n",
    "    #partition to find avgs\n",
    "    avgs = []\n",
    "    for i in range(0, N, 10**3):\n",
    "        avgs.append(sum(estimates[i:i+10**3-1])/10**3)\n",
    "    #find median \n",
    "    avgs = sorted(avgs)\n",
    "    return ((avgs[499] + avgs[500])/2)\n",
    "\n",
    "def piCorrectness():\n",
    "    Z1 = findZ1()\n",
    "    Z2 = findZ2()\n",
    "    Z3 = findZ3()\n",
    "    Z4 = findZ4()\n",
    "    print(\"Z1:%f\" % Z1)\n",
    "    print(\"Z2:%f\" % Z2)\n",
    "    print(\"Z3:%f\" % Z3)\n",
    "    print(\"Z4:%f\" % Z4)\n",
    "    print(\"Pi:%f\" % math.pi)\n",
    "   \n",
    "piCorrectness()"
   ]
  },
  {
   "cell_type": "code",
   "execution_count": 17,
   "metadata": {},
   "outputs": [],
   "source": [
    "# Z1 agrees to 4 digits\n",
    "# Z2 agrees to 2 digits\n",
    "# Z3 agrees to 4 digits \n",
    "# Z4 agrees to 2 digits"
   ]
  },
  {
   "cell_type": "code",
   "execution_count": null,
   "metadata": {},
   "outputs": [],
   "source": []
  }
 ],
 "metadata": {
  "kernelspec": {
   "display_name": "Python 3",
   "language": "python",
   "name": "python3"
  },
  "language_info": {
   "codemirror_mode": {
    "name": "ipython",
    "version": 3
   },
   "file_extension": ".py",
   "mimetype": "text/x-python",
   "name": "python",
   "nbconvert_exporter": "python",
   "pygments_lexer": "ipython3",
   "version": "3.7.4"
  }
 },
 "nbformat": 4,
 "nbformat_minor": 2
}
